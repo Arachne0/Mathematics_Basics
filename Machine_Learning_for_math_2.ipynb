{
  "nbformat": 4,
  "nbformat_minor": 0,
  "metadata": {
    "colab": {
      "provenance": [],
      "authorship_tag": "ABX9TyP0qbeGtSTJA65Zt0uRz/mf",
      "include_colab_link": true
    },
    "kernelspec": {
      "name": "python3",
      "display_name": "Python 3"
    },
    "language_info": {
      "name": "python"
    }
  },
  "cells": [
    {
      "cell_type": "markdown",
      "metadata": {
        "id": "view-in-github",
        "colab_type": "text"
      },
      "source": [
        "<a href=\"https://colab.research.google.com/github/Arachne0/Mathematics_Basics/blob/master/Machine_Learning_for_math_2.ipynb\" target=\"_parent\"><img src=\"https://colab.research.google.com/assets/colab-badge.svg\" alt=\"Open In Colab\"/></a>"
      ]
    },
    {
      "cell_type": "code",
      "execution_count": null,
      "metadata": {
        "colab": {
          "base_uri": "https://localhost:8080/"
        },
        "id": "F2MjcSQ5poZ1",
        "outputId": "82565435-62e3-4e0f-a741-a3e95922aa9a"
      },
      "outputs": [
        {
          "output_type": "execute_result",
          "data": {
            "text/plain": [
              "array([3, 6])"
            ]
          },
          "metadata": {},
          "execution_count": 1
        }
      ],
      "source": [
        "import numpy as np\n",
        "c = np.array([2, 3])\n",
        "d = np.array([1, 3])\n",
        "c + d"
      ]
    },
    {
      "cell_type": "code",
      "source": [
        "import numpy as np\n",
        "x = np.matrix([[1, 0, 0],[0, 1, 0],[0, 0, 1]])\n",
        "print(x)"
      ],
      "metadata": {
        "colab": {
          "base_uri": "https://localhost:8080/"
        },
        "id": "y1JTitzqCJiq",
        "outputId": "81253e2f-6cb0-4231-e4d2-4c1cea9fe134"
      },
      "execution_count": null,
      "outputs": [
        {
          "output_type": "stream",
          "name": "stdout",
          "text": [
            "[[1 0 0]\n",
            " [0 1 0]\n",
            " [0 0 1]]\n"
          ]
        }
      ]
    },
    {
      "cell_type": "code",
      "source": [
        "import numpy as np\n",
        "list1 = [0, 1, 2, 3, 4, 5]\n",
        "a = np.array(list1)"
      ],
      "metadata": {
        "id": "DB3IUK73CJjp"
      },
      "execution_count": null,
      "outputs": []
    },
    {
      "cell_type": "code",
      "source": [
        "print(a[list1])"
      ],
      "metadata": {
        "colab": {
          "base_uri": "https://localhost:8080/"
        },
        "id": "FJsGtdyNCJlb",
        "outputId": "ec240b06-e498-4adf-cb85-d0a3ef6ac3fd"
      },
      "execution_count": null,
      "outputs": [
        {
          "output_type": "stream",
          "name": "stdout",
          "text": [
            "[0 1 2 3 4 5]\n"
          ]
        }
      ]
    },
    {
      "cell_type": "code",
      "source": [
        "import numpy as np\n",
        "a = np.array([[1., 2.], [3., 4.]])\n",
        "np.linalg.inv(a)   # 역행렬"
      ],
      "metadata": {
        "colab": {
          "base_uri": "https://localhost:8080/"
        },
        "id": "hcE0_vfiCJmn",
        "outputId": "790df1da-a4d8-41ee-f372-97cd13a428a1"
      },
      "execution_count": null,
      "outputs": [
        {
          "output_type": "execute_result",
          "data": {
            "text/plain": [
              "array([[-2. ,  1. ],\n",
              "       [ 1.5, -0.5]])"
            ]
          },
          "metadata": {},
          "execution_count": 4
        }
      ]
    },
    {
      "cell_type": "code",
      "source": [
        "np.linalg.det(a)   # 행렬식"
      ],
      "metadata": {
        "colab": {
          "base_uri": "https://localhost:8080/"
        },
        "id": "fhzuln5gCJoL",
        "outputId": "be30511b-8648-4685-dbf9-675abe9abcf5"
      },
      "execution_count": null,
      "outputs": [
        {
          "output_type": "execute_result",
          "data": {
            "text/plain": [
              "-2.0000000000000004"
            ]
          },
          "metadata": {},
          "execution_count": 5
        }
      ]
    },
    {
      "cell_type": "code",
      "source": [
        "# sklearn 패키지 decomposition 모듈의 PCA 함수 불러오기\n",
        "from sklearn.decomposition import PCA\n",
        "import numpy as np\n",
        "M = np.array( [[-1, -1, -1], [-2, -1, 2], [-3, -2, 0], \n",
        "               [1, 1, 2], [2, 1, 1], [3, 2, 4], [2, 0, 3], \n",
        "               [3, 5, 1], [4, 2, 3], [3, 3, 2]] )   # 원래 데이터\n",
        "               \n",
        "pca = PCA(n_components=2)                       # 주성분을 두 개로 지정"
      ],
      "metadata": {
        "id": "cZIV0o_WCJpd"
      },
      "execution_count": null,
      "outputs": []
    },
    {
      "cell_type": "code",
      "source": [
        "# 주성분 분석\n",
        "pca.fit(M)\n",
        "PCA(copy=True, iterated_power='auto', n_components=2, \n",
        "    random_state=None, svd_solver='auto', tol=0.0, whiten=False)\n",
        "PC = pca.transform(M)"
      ],
      "metadata": {
        "id": "h9ZwwtJtCJrK"
      },
      "execution_count": null,
      "outputs": []
    },
    {
      "cell_type": "code",
      "source": [
        "# w는 고윳값, V는 고유 벡터\n",
        "w, V = np.linalg.eig(pca.get_covariance())"
      ],
      "metadata": {
        "id": "fu0LuzQtCJsc"
      },
      "execution_count": null,
      "outputs": []
    },
    {
      "cell_type": "code",
      "source": [
        "# 원래 데이터를 나타내는 주성분 세 개\n",
        "V.T.dot(M.T).T"
      ],
      "metadata": {
        "id": "TpXQ_6U3CJuJ",
        "colab": {
          "base_uri": "https://localhost:8080/"
        },
        "outputId": "c617b7a7-1ac6-44c7-d4be-8d27b13f8ed5"
      },
      "execution_count": null,
      "outputs": [
        {
          "output_type": "execute_result",
          "data": {
            "text/plain": [
              "array([[-1.63789386,  0.38309423, -0.41296792],\n",
              "       [-1.50265209, -1.67967793,  1.98008049],\n",
              "       [-3.43143719, -0.83088857,  0.73134327],\n",
              "       [ 1.9287851 , -0.84878936,  1.24873722],\n",
              "       [ 2.3753258 ,  0.28259255,  0.52722744],\n",
              "       [ 4.59500215, -1.03189193,  2.61173397],\n",
              "       [ 2.3475376 , -0.06571181,  2.73582697],\n",
              "       [ 5.55104049, -1.38406422, -1.5067567 ],\n",
              "       [ 5.04154285,  0.09948998,  1.89022418],\n",
              "       [ 4.62279035, -0.68358757,  0.40313444]])"
            ]
          },
          "metadata": {},
          "execution_count": 9
        }
      ]
    },
    {
      "cell_type": "code",
      "source": [
        "# numpy, scipy 이용해 다양한 선형대수 연산하기\n",
        "\n",
        "import numpy as np\n",
        "from scipy import linalg, sparse\n",
        "\n",
        "# 다양한 행렬 생성하기\n",
        "A = np.matrix(np.random.random((2, 2)))    # 임의의 2×2 행렬\n",
        "b = np.random.random((2, 2))               # 2×2의 numpy array를 생성\n",
        "B = np.asmatrix(b)                         # 2차원 배열을 행렬로 변환\n",
        "C = np.mat(np.random.random((10, 5)))      # 임의의 10×5 행렬\n",
        "D = np.mat([[3, 4], [5, 6]]) # 2차원 자료를 나타낸 리스트를 행렬로 표현\n"
      ],
      "metadata": {
        "id": "pI5f_xEwCJvp"
      },
      "execution_count": null,
      "outputs": []
    },
    {
      "cell_type": "code",
      "source": [
        "# 생성된 행렬값을 출력하기(A, B, C는 랜덤하게 생성된 행렬이어서 출력되는 값은 다를 수 있음)\n",
        "print(A)"
      ],
      "metadata": {
        "id": "ewUb9JsSCJxI",
        "colab": {
          "base_uri": "https://localhost:8080/"
        },
        "outputId": "144467e7-b810-4cd6-93f1-b19e8f7830b0"
      },
      "execution_count": null,
      "outputs": [
        {
          "output_type": "stream",
          "name": "stdout",
          "text": [
            "[[0.78866299 0.72494365]\n",
            " [0.17213923 0.7319817 ]]\n"
          ]
        }
      ]
    },
    {
      "cell_type": "code",
      "source": [
        "print(B)"
      ],
      "metadata": {
        "id": "ovBSm7sdCJyv",
        "colab": {
          "base_uri": "https://localhost:8080/"
        },
        "outputId": "5bf43705-5d13-46f6-a104-f9c38f5ec06b"
      },
      "execution_count": null,
      "outputs": [
        {
          "output_type": "stream",
          "name": "stdout",
          "text": [
            "[[0.07062985 0.40602966]\n",
            " [0.74702347 0.43271061]]\n"
          ]
        }
      ]
    },
    {
      "cell_type": "code",
      "source": [
        "print(C)"
      ],
      "metadata": {
        "id": "HnM_5m8fCJ0b",
        "colab": {
          "base_uri": "https://localhost:8080/"
        },
        "outputId": "be0d58cb-0aa6-4823-a1bc-067c1e3b7ffe"
      },
      "execution_count": null,
      "outputs": [
        {
          "output_type": "stream",
          "name": "stdout",
          "text": [
            "[[0.9621314  0.63459917 0.99583155 0.50045625 0.05284605]\n",
            " [0.85679086 0.50327501 0.76147763 0.95799344 0.99400394]\n",
            " [0.9629099  0.35050678 0.49078216 0.11915499 0.01652615]\n",
            " [0.60750068 0.5393088  0.74016879 0.38195393 0.12619102]\n",
            " [0.81369394 0.8140144  0.6807488  0.12028237 0.42336735]\n",
            " [0.88361726 0.27408415 0.17229071 0.66637383 0.39087797]\n",
            " [0.20703917 0.38930394 0.98417336 0.73217738 0.08321891]\n",
            " [0.14265929 0.59915876 0.83533824 0.06149408 0.51168124]\n",
            " [0.97179285 0.59840005 0.04304494 0.21153104 0.80632324]\n",
            " [0.94851972 0.17780218 0.14521625 0.69791707 0.68315506]]\n"
          ]
        }
      ]
    },
    {
      "cell_type": "code",
      "source": [
        "print(D)"
      ],
      "metadata": {
        "id": "Q-EaLXgFCJ2F",
        "colab": {
          "base_uri": "https://localhost:8080/"
        },
        "outputId": "45f19b11-752e-4e15-ccb3-dfdafb833f30"
      },
      "execution_count": null,
      "outputs": [
        {
          "output_type": "stream",
          "name": "stdout",
          "text": [
            "[[3 4]\n",
            " [5 6]]\n"
          ]
        }
      ]
    },
    {
      "cell_type": "code",
      "source": [
        "A.I                # A의 역행렬"
      ],
      "metadata": {
        "id": "q0r7DHIUCJ3-",
        "colab": {
          "base_uri": "https://localhost:8080/"
        },
        "outputId": "bb80b864-d729-4e47-fc4a-95a467eaa9da"
      },
      "execution_count": null,
      "outputs": [
        {
          "output_type": "execute_result",
          "data": {
            "text/plain": [
              "matrix([[ 1.61765471, -1.60210087],\n",
              "        [-0.38042185,  1.74291846]])"
            ]
          },
          "metadata": {},
          "execution_count": 6
        }
      ]
    },
    {
      "cell_type": "code",
      "source": [
        "linalg.det(A)      # A의 행렬식"
      ],
      "metadata": {
        "colab": {
          "base_uri": "https://localhost:8080/"
        },
        "id": "cAXhEo1FQbOl",
        "outputId": "3222ccc3-51fd-4543-dc22-dc09604d05d2"
      },
      "execution_count": null,
      "outputs": [
        {
          "output_type": "execute_result",
          "data": {
            "text/plain": [
              "0.4524956346818031"
            ]
          },
          "metadata": {},
          "execution_count": 7
        }
      ]
    },
    {
      "cell_type": "code",
      "source": [
        "A.T                # A의 전치행렬"
      ],
      "metadata": {
        "colab": {
          "base_uri": "https://localhost:8080/"
        },
        "id": "Ybk4mfDsQbRB",
        "outputId": "2ba09927-f940-43f1-8f94-19d36a101cd4"
      },
      "execution_count": null,
      "outputs": [
        {
          "output_type": "execute_result",
          "data": {
            "text/plain": [
              "matrix([[0.78866299, 0.17213923],\n",
              "        [0.72494365, 0.7319817 ]])"
            ]
          },
          "metadata": {},
          "execution_count": 8
        }
      ]
    },
    {
      "cell_type": "code",
      "source": [
        "np.add(A, D)       # A와 D의 합\n"
      ],
      "metadata": {
        "colab": {
          "base_uri": "https://localhost:8080/"
        },
        "id": "RUO-aDg9QbTh",
        "outputId": "b722bac4-8ee6-48fd-90b5-b98030537977"
      },
      "execution_count": null,
      "outputs": [
        {
          "output_type": "execute_result",
          "data": {
            "text/plain": [
              "matrix([[3.78866299, 4.72494365],\n",
              "        [5.17213923, 6.7319817 ]])"
            ]
          },
          "metadata": {},
          "execution_count": 9
        }
      ]
    },
    {
      "cell_type": "code",
      "source": [
        "np.subtract(A, D)  # A와 D의 차\n"
      ],
      "metadata": {
        "colab": {
          "base_uri": "https://localhost:8080/"
        },
        "id": "FPDhE_hrQbVm",
        "outputId": "2ebb465c-5a7d-4e5d-e10b-81d9b39e22b6"
      },
      "execution_count": null,
      "outputs": [
        {
          "output_type": "execute_result",
          "data": {
            "text/plain": [
              "matrix([[-2.21133701, -3.27505635],\n",
              "        [-4.82786077, -5.2680183 ]])"
            ]
          },
          "metadata": {},
          "execution_count": 10
        }
      ]
    },
    {
      "cell_type": "code",
      "source": [
        "np.divide(A, D)    # A 나누기 D"
      ],
      "metadata": {
        "colab": {
          "base_uri": "https://localhost:8080/"
        },
        "id": "qe5Rd4VwQz8c",
        "outputId": "42301771-ca88-4e77-c49f-7d302e4e2c0b"
      },
      "execution_count": null,
      "outputs": [
        {
          "output_type": "execute_result",
          "data": {
            "text/plain": [
              "matrix([[0.26288766, 0.18123591],\n",
              "        [0.03442785, 0.12199695]])"
            ]
          },
          "metadata": {},
          "execution_count": 11
        }
      ]
    },
    {
      "cell_type": "code",
      "source": [
        "print(D@B)                   # D와 B의 행렬곱을 @로 계산\n"
      ],
      "metadata": {
        "colab": {
          "base_uri": "https://localhost:8080/"
        },
        "id": "laSWEluRQbbr",
        "outputId": "b9f4ae13-d904-4212-e625-f5d5ea169122"
      },
      "execution_count": null,
      "outputs": [
        {
          "output_type": "stream",
          "name": "stdout",
          "text": [
            "[[3.19998344 2.94893143]\n",
            " [4.83529009 4.62641198]]\n"
          ]
        }
      ]
    },
    {
      "cell_type": "code",
      "source": [
        "print(np.dot(D, B))          # D와 B의 행렬곱을 numpy의 dot 함수로도 게산할 수 있다"
      ],
      "metadata": {
        "colab": {
          "base_uri": "https://localhost:8080/"
        },
        "id": "EWOIMMIFQbft",
        "outputId": "38fefc79-f887-4230-c36a-4e0f4f08548e"
      },
      "execution_count": null,
      "outputs": [
        {
          "output_type": "stream",
          "name": "stdout",
          "text": [
            "[[3.19998344 2.94893143]\n",
            " [4.83529009 4.62641198]]\n"
          ]
        }
      ]
    },
    {
      "cell_type": "code",
      "source": [
        "print(np.multiply(D, B))     # 행렬 D와 B에 대해서, 행렬곱이 아닌 대응되는 원소끼리의 단순 곱셈 수행\n",
        " "
      ],
      "metadata": {
        "colab": {
          "base_uri": "https://localhost:8080/"
        },
        "id": "0GQv_CwAQbh1",
        "outputId": "4e21da82-860c-4296-ba61-85a0857dbe8b"
      },
      "execution_count": null,
      "outputs": [
        {
          "output_type": "stream",
          "name": "stdout",
          "text": [
            "[[0.21188956 1.62411865]\n",
            " [3.73511736 2.59626366]]\n"
          ]
        }
      ]
    },
    {
      "cell_type": "code",
      "source": [
        "G = np.mat(np.identity(2))   # 2×2 항등행렬\n",
        "G"
      ],
      "metadata": {
        "colab": {
          "base_uri": "https://localhost:8080/"
        },
        "id": "P5r5t1LbQbjP",
        "outputId": "3bd4a51b-fdd8-439f-d6b2-91451f3701aa"
      },
      "execution_count": null,
      "outputs": [
        {
          "output_type": "execute_result",
          "data": {
            "text/plain": [
              "matrix([[1., 0.],\n",
              "        [0., 1.]])"
            ]
          },
          "metadata": {},
          "execution_count": 15
        }
      ]
    },
    {
      "cell_type": "code",
      "source": [
        "linalg.eigvals(A)       # 행렬 A의 고윳값 확인"
      ],
      "metadata": {
        "colab": {
          "base_uri": "https://localhost:8080/"
        },
        "id": "j9vbIOoAQblL",
        "outputId": "ecff1543-4c52-4981-8bd8-5a0401a1477a"
      },
      "execution_count": null,
      "outputs": [
        {
          "output_type": "execute_result",
          "data": {
            "text/plain": [
              "array([1.11471539+0.j, 0.4059293 +0.j])"
            ]
          },
          "metadata": {},
          "execution_count": 16
        }
      ]
    },
    {
      "cell_type": "code",
      "source": [
        "la, v = linalg.eig(A)   # A의 고유 벡터"
      ],
      "metadata": {
        "id": "KNtDyzuaQbm4"
      },
      "execution_count": null,
      "outputs": []
    },
    {
      "cell_type": "code",
      "source": [
        "l1, l2 = la             # 고윳값을 l1, l2로 받기\n",
        "v[:,0]                  # 첫 번째 고유 벡터"
      ],
      "metadata": {
        "colab": {
          "base_uri": "https://localhost:8080/"
        },
        "id": "w5KatVfBQbo4",
        "outputId": "fa6ff9e7-1846-41c2-d75f-a688c5d3466b"
      },
      "execution_count": null,
      "outputs": [
        {
          "output_type": "execute_result",
          "data": {
            "text/plain": [
              "array([0.91200258, 0.41018447])"
            ]
          },
          "metadata": {},
          "execution_count": 18
        }
      ]
    },
    {
      "cell_type": "code",
      "source": [
        "v[:,1]                  # 두 번째 고유 벡터"
      ],
      "metadata": {
        "colab": {
          "base_uri": "https://localhost:8080/"
        },
        "id": "snqBqHGgQbqT",
        "outputId": "28e4b94a-1a07-4ccd-bab7-d9c29351e2ab"
      },
      "execution_count": null,
      "outputs": [
        {
          "output_type": "execute_result",
          "data": {
            "text/plain": [
              "array([-0.88432203,  0.46687745])"
            ]
          },
          "metadata": {},
          "execution_count": 19
        }
      ]
    },
    {
      "cell_type": "code",
      "source": [
        "C[C > 0.5] = 0\n",
        "H = sparse.csr_matrix(C)   # C를 희소행렬 형태로 변환\n",
        "H.todense()                # H를 일반적인 행렬(dense matrix) 형태로 변환"
      ],
      "metadata": {
        "colab": {
          "base_uri": "https://localhost:8080/"
        },
        "id": "N1KpBXu7Qbr-",
        "outputId": "aa8eec7d-1f46-4330-e560-bd5a1e66be15"
      },
      "execution_count": null,
      "outputs": [
        {
          "output_type": "execute_result",
          "data": {
            "text/plain": [
              "matrix([[0.        , 0.        , 0.        , 0.        , 0.05284605],\n",
              "        [0.        , 0.        , 0.        , 0.        , 0.        ],\n",
              "        [0.        , 0.35050678, 0.49078216, 0.11915499, 0.01652615],\n",
              "        [0.        , 0.        , 0.        , 0.38195393, 0.12619102],\n",
              "        [0.        , 0.        , 0.        , 0.12028237, 0.42336735],\n",
              "        [0.        , 0.27408415, 0.17229071, 0.        , 0.39087797],\n",
              "        [0.20703917, 0.38930394, 0.        , 0.        , 0.08321891],\n",
              "        [0.14265929, 0.        , 0.        , 0.06149408, 0.        ],\n",
              "        [0.        , 0.        , 0.04304494, 0.21153104, 0.        ],\n",
              "        [0.        , 0.17780218, 0.14521625, 0.        , 0.        ]])"
            ]
          },
          "metadata": {},
          "execution_count": 21
        }
      ]
    },
    {
      "cell_type": "code",
      "source": [
        "sparse.isspmatrix_csr(H)   # 희소행렬 여부 확인\n",
        "True"
      ],
      "metadata": {
        "colab": {
          "base_uri": "https://localhost:8080/"
        },
        "id": "Om_1Lbj_Qbth",
        "outputId": "3a88876d-de8d-459f-d78a-b7a3c06cc6b6"
      },
      "execution_count": null,
      "outputs": [
        {
          "output_type": "execute_result",
          "data": {
            "text/plain": [
              "True"
            ]
          },
          "metadata": {},
          "execution_count": 22
        }
      ]
    }
  ]
}