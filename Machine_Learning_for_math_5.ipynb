{
  "nbformat": 4,
  "nbformat_minor": 0,
  "metadata": {
    "colab": {
      "provenance": [],
      "authorship_tag": "ABX9TyOxjgMSUn8A/BWmHTI8bXTB",
      "include_colab_link": true
    },
    "kernelspec": {
      "name": "python3",
      "display_name": "Python 3"
    },
    "language_info": {
      "name": "python"
    }
  },
  "cells": [
    {
      "cell_type": "markdown",
      "metadata": {
        "id": "view-in-github",
        "colab_type": "text"
      },
      "source": [
        "<a href=\"https://colab.research.google.com/github/Arachne0/Mathematics_Basics/blob/master/Machine_Learning_for_math_5.ipynb\" target=\"_parent\"><img src=\"https://colab.research.google.com/assets/colab-badge.svg\" alt=\"Open In Colab\"/></a>"
      ]
    },
    {
      "cell_type": "code",
      "execution_count": null,
      "metadata": {
        "id": "9WDyD0kOyD6j",
        "colab": {
          "base_uri": "https://localhost:8080/"
        },
        "outputId": "89a7b5db-ff7e-4d81-e073-4f9e7a21a09a"
      },
      "outputs": [
        {
          "output_type": "stream",
          "name": "stdout",
          "text": [
            "tf.Tensor(b'Hi', shape=(), dtype=string)\n"
          ]
        }
      ],
      "source": [
        "import tensorflow as tf\n",
        "hello = tf.constant(\"Hi\")\n",
        "print(hello)"
      ]
    },
    {
      "cell_type": "code",
      "source": [
        "import tensorflow as tf\n",
        "import numpy as np\n",
        "\n",
        "x_data = np.array([[0, 0], [1, 0], [1, 1], [0, 0], [0, 0], [0, 1]])\n",
        "y_data = np.array([[1, 0, 0], [0, 1, 0], [0, 0, 1], [1, 0, 0], [1, 0, 0], [0, 0, 1]])"
      ],
      "metadata": {
        "id": "lr6jPbE6ND3Y"
      },
      "execution_count": null,
      "outputs": []
    },
    {
      "cell_type": "code",
      "source": [
        "model = tf.keras.Sequential([\n",
        "  tf.keras.layers.Dense(10, activation='relu'),\n",
        "  tf.keras.layers.Dense(3)\n",
        "  ] )"
      ],
      "metadata": {
        "id": "Aq6ZBPXfND5Y"
      },
      "execution_count": null,
      "outputs": []
    },
    {
      "cell_type": "code",
      "source": [
        "model.compile(optimizer='adam',\n",
        "loss='categorical_crossentropy',\n",
        "metrics=['accuracy'])"
      ],
      "metadata": {
        "id": "7D6wf-LrND68"
      },
      "execution_count": null,
      "outputs": []
    },
    {
      "cell_type": "code",
      "source": [
        "model.fit(x_data, y_data, epochs=10)"
      ],
      "metadata": {
        "colab": {
          "base_uri": "https://localhost:8080/"
        },
        "id": "nFcK1Gp8ND8i",
        "outputId": "28db76b0-2735-41d0-d468-8b7f93c62792"
      },
      "execution_count": null,
      "outputs": [
        {
          "output_type": "stream",
          "name": "stdout",
          "text": [
            "Epoch 1/10\n",
            "1/1 [==============================] - 1s 527ms/step - loss: nan - accuracy: 0.6667\n",
            "Epoch 2/10\n",
            "1/1 [==============================] - 0s 8ms/step - loss: nan - accuracy: 0.5000\n",
            "Epoch 3/10\n",
            "1/1 [==============================] - 0s 6ms/step - loss: nan - accuracy: 0.5000\n",
            "Epoch 4/10\n",
            "1/1 [==============================] - 0s 6ms/step - loss: nan - accuracy: 0.5000\n",
            "Epoch 5/10\n",
            "1/1 [==============================] - 0s 10ms/step - loss: nan - accuracy: 0.5000\n",
            "Epoch 6/10\n",
            "1/1 [==============================] - 0s 6ms/step - loss: nan - accuracy: 0.5000\n",
            "Epoch 7/10\n",
            "1/1 [==============================] - 0s 6ms/step - loss: nan - accuracy: 0.5000\n",
            "Epoch 8/10\n",
            "1/1 [==============================] - 0s 7ms/step - loss: nan - accuracy: 0.5000\n",
            "Epoch 9/10\n",
            "1/1 [==============================] - 0s 10ms/step - loss: nan - accuracy: 0.5000\n",
            "Epoch 10/10\n",
            "1/1 [==============================] - 0s 5ms/step - loss: nan - accuracy: 0.5000\n"
          ]
        },
        {
          "output_type": "execute_result",
          "data": {
            "text/plain": [
              "<keras.callbacks.History at 0x7f4a4410f0d0>"
            ]
          },
          "metadata": {},
          "execution_count": 33
        }
      ]
    },
    {
      "cell_type": "code",
      "source": [],
      "metadata": {
        "id": "MZmt9MXCND-M"
      },
      "execution_count": null,
      "outputs": []
    },
    {
      "cell_type": "code",
      "source": [
        "import tensorflow as tf\n",
        "mnist = tf.keras.datasets.mnist\n",
        "(x_train, y_train), (x_test, y_test) = mnist.load_data()\n",
        "x_train, x_test = x_train / 255.0, x_test / 255.0"
      ],
      "metadata": {
        "id": "srnhOq_hND_5"
      },
      "execution_count": null,
      "outputs": []
    },
    {
      "cell_type": "code",
      "source": [
        "model = tf.keras.models.Sequential([\n",
        "  tf.keras.layers.Flatten(input_shape=(28, 28)),\n",
        "  tf.keras.layers.Dense(128, activation='relu'),\n",
        "  tf.keras.layers.Dropout(0.2),\n",
        "  tf.keras.layers.Dense(10, activation='softmax')\n",
        "  ])"
      ],
      "metadata": {
        "id": "7m2rJXeUNEBv"
      },
      "execution_count": null,
      "outputs": []
    },
    {
      "cell_type": "code",
      "source": [
        "model.compile(optimizer='adam',\n",
        "  loss='sparse_categorical_crossentropy',\n",
        "  metrics=['accuracy'])"
      ],
      "metadata": {
        "id": "kCOZK9HhNEDR"
      },
      "execution_count": null,
      "outputs": []
    },
    {
      "cell_type": "code",
      "source": [
        "model.fit(x_train, y_train, epochs=10)\n",
        "model.evaluate(x_test, y_test, verbose=2)"
      ],
      "metadata": {
        "colab": {
          "base_uri": "https://localhost:8080/"
        },
        "id": "GN-V1-wONEFG",
        "outputId": "8ea82099-af6f-4244-9b96-550c501bb55e"
      },
      "execution_count": null,
      "outputs": [
        {
          "output_type": "stream",
          "name": "stdout",
          "text": [
            "Epoch 1/10\n",
            "1875/1875 [==============================] - 19s 2ms/step - loss: 0.2992 - accuracy: 0.9136\n",
            "Epoch 2/10\n",
            "1875/1875 [==============================] - 4s 2ms/step - loss: 0.1459 - accuracy: 0.9566\n",
            "Epoch 3/10\n",
            "1875/1875 [==============================] - 4s 2ms/step - loss: 0.1076 - accuracy: 0.9679\n",
            "Epoch 4/10\n",
            "1875/1875 [==============================] - 4s 2ms/step - loss: 0.0867 - accuracy: 0.9734\n",
            "Epoch 5/10\n",
            "1875/1875 [==============================] - 4s 2ms/step - loss: 0.0766 - accuracy: 0.9756\n",
            "Epoch 6/10\n",
            "1875/1875 [==============================] - 4s 2ms/step - loss: 0.0645 - accuracy: 0.9797\n",
            "Epoch 7/10\n",
            "1875/1875 [==============================] - 4s 2ms/step - loss: 0.0618 - accuracy: 0.9799\n",
            "Epoch 8/10\n",
            "1875/1875 [==============================] - 4s 2ms/step - loss: 0.0525 - accuracy: 0.9823\n",
            "Epoch 9/10\n",
            "1875/1875 [==============================] - 4s 2ms/step - loss: 0.0486 - accuracy: 0.9841\n",
            "Epoch 10/10\n",
            "1875/1875 [==============================] - 4s 2ms/step - loss: 0.0429 - accuracy: 0.9858\n",
            "313/313 - 0s - loss: 0.0715 - accuracy: 0.9800 - 465ms/epoch - 1ms/step\n"
          ]
        },
        {
          "output_type": "execute_result",
          "data": {
            "text/plain": [
              "[0.07151473313570023, 0.9800000190734863]"
            ]
          },
          "metadata": {},
          "execution_count": 44
        }
      ]
    }
  ]
}