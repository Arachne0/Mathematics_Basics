{
  "nbformat": 4,
  "nbformat_minor": 0,
  "metadata": {
    "colab": {
      "provenance": [],
      "authorship_tag": "ABX9TyPZiweZzDaQKAWs7Qlhuhao",
      "include_colab_link": true
    },
    "kernelspec": {
      "name": "python3",
      "display_name": "Python 3"
    },
    "language_info": {
      "name": "python"
    }
  },
  "cells": [
    {
      "cell_type": "markdown",
      "metadata": {
        "id": "view-in-github",
        "colab_type": "text"
      },
      "source": [
        "<a href=\"https://colab.research.google.com/github/Arachne0/Mathematics_Basics/blob/master/machine_Learning_for_math_4.ipynb\" target=\"_parent\"><img src=\"https://colab.research.google.com/assets/colab-badge.svg\" alt=\"Open In Colab\"/></a>"
      ]
    },
    {
      "cell_type": "code",
      "execution_count": null,
      "metadata": {
        "colab": {
          "base_uri": "https://localhost:8080/"
        },
        "id": "O23AFzybmSbD",
        "outputId": "30af5409-bd34-4cec-9e6c-7c55b6110433"
      },
      "outputs": [
        {
          "output_type": "execute_result",
          "data": {
            "text/plain": [
              "4.5"
            ]
          },
          "metadata": {},
          "execution_count": 2
        }
      ],
      "source": [
        "import numpy as np\n",
        "x = np.arange(10.0)            # 0~9까지 실수 10개를 갖는 자료 구조 생성\n",
        "x.mean()   # x의 평균"
      ]
    },
    {
      "cell_type": "code",
      "source": [
        "numbers=np.arange(20.0)        # 0~19까지 실수 20개로 1차원 배열 생성\n",
        "x= np.reshape(numbers,(4,5))   # numbers를 4행 5열로 변경\n",
        "np.mean(x,0)"
      ],
      "metadata": {
        "colab": {
          "base_uri": "https://localhost:8080/"
        },
        "id": "ZX07hJNpmaQw",
        "outputId": "aae8e7c2-2046-4151-94d4-3cd025686eab"
      },
      "execution_count": null,
      "outputs": [
        {
          "output_type": "execute_result",
          "data": {
            "text/plain": [
              "array([ 7.5,  8.5,  9.5, 10.5, 11.5])"
            ]
          },
          "metadata": {},
          "execution_count": 3
        }
      ]
    },
    {
      "cell_type": "code",
      "source": [
        "np.std(x)    # 행과 열을 고려하지 않고 x에 대한 표준편차"
      ],
      "metadata": {
        "colab": {
          "base_uri": "https://localhost:8080/"
        },
        "id": "_OJlvKwYmaSz",
        "outputId": "b323eaba-cdad-4bbb-aff6-3191efc747b2"
      },
      "execution_count": null,
      "outputs": [
        {
          "output_type": "execute_result",
          "data": {
            "text/plain": [
              "5.766281297335398"
            ]
          },
          "metadata": {},
          "execution_count": 4
        }
      ]
    },
    {
      "cell_type": "code",
      "source": [
        "np.var(x)    # 행과 열 고려하지 않고 x에 대한 분산"
      ],
      "metadata": {
        "colab": {
          "base_uri": "https://localhost:8080/"
        },
        "id": "kGKnVnBAmaUe",
        "outputId": "261df788-2b8f-4812-8a47-8e38359324ee"
      },
      "execution_count": null,
      "outputs": [
        {
          "output_type": "execute_result",
          "data": {
            "text/plain": [
              "33.25"
            ]
          },
          "metadata": {},
          "execution_count": 5
        }
      ]
    },
    {
      "cell_type": "code",
      "source": [
        "x= np.random.randn(3, 4)    # 3행 4열인 x\n",
        "# x의 행별로 피어슨 상관관계 구하기, 예를 들어 1행과 2행의 상관관계, 2행과 3행의 상관관계 등. 결과는 3행 3열로 나오며, 랜덤하게 생성되어 결과는 다를 수 있음\n",
        "np.corrcoef(x)"
      ],
      "metadata": {
        "colab": {
          "base_uri": "https://localhost:8080/"
        },
        "id": "RGK3dU8jmaWS",
        "outputId": "23b9291d-f4cf-45ac-a86b-5ef0f6bc0a1c"
      },
      "execution_count": null,
      "outputs": [
        {
          "output_type": "execute_result",
          "data": {
            "text/plain": [
              "array([[ 1.        , -0.95926517,  0.41662392],\n",
              "       [-0.95926517,  1.        , -0.53233559],\n",
              "       [ 0.41662392, -0.53233559,  1.        ]])"
            ]
          },
          "metadata": {},
          "execution_count": 6
        }
      ]
    },
    {
      "cell_type": "code",
      "source": [
        "np.corrcoef(x[0],x[1])"
      ],
      "metadata": {
        "colab": {
          "base_uri": "https://localhost:8080/"
        },
        "id": "kycc8dCNmaX-",
        "outputId": "3bb86e0b-52b7-4a2d-8e51-1b8de75a3692"
      },
      "execution_count": null,
      "outputs": [
        {
          "output_type": "execute_result",
          "data": {
            "text/plain": [
              "array([[ 1.        , -0.95926517],\n",
              "       [-0.95926517,  1.        ]])"
            ]
          },
          "metadata": {},
          "execution_count": 7
        }
      ]
    },
    {
      "cell_type": "code",
      "source": [
        "# x의 각 열 사이의 공분산 구하기, 총 4행 4열의 결괏값이 출력되며 랜덤하게 생성되어 결과는 다를 수 있음\n",
        "np.cov(x, rowvar=False)"
      ],
      "metadata": {
        "colab": {
          "base_uri": "https://localhost:8080/"
        },
        "id": "D6KiYEUEmaZ7",
        "outputId": "c964f6de-95c5-4b32-d483-d34a4897dea9"
      },
      "execution_count": null,
      "outputs": [
        {
          "output_type": "execute_result",
          "data": {
            "text/plain": [
              "array([[ 0.12966336, -0.01211422, -0.03557149, -0.15501053],\n",
              "       [-0.01211422,  0.71745894, -0.65856691, -1.0694991 ],\n",
              "       [-0.03557149, -0.65856691,  0.62134895,  1.04413014],\n",
              "       [-0.15501053, -1.0694991 ,  1.04413014,  1.8256468 ]])"
            ]
          },
          "metadata": {},
          "execution_count": 8
        }
      ]
    },
    {
      "cell_type": "code",
      "source": [
        "# x의 각 행 사이의 공분산 구하기, 총 3행 3열의 결괏값이 출력되며 랜덤하게 생성되어 결과는 다를 수 있음\n",
        "np.cov(x, rowvar=True)"
      ],
      "metadata": {
        "colab": {
          "base_uri": "https://localhost:8080/"
        },
        "id": "4zUbG8Y1mabx",
        "outputId": "e80c2104-c7c8-4407-831e-5b2ca50f54b3"
      },
      "execution_count": null,
      "outputs": [
        {
          "output_type": "execute_result",
          "data": {
            "text/plain": [
              "array([[ 1.65534703, -0.77410372,  0.22475831],\n",
              "       [-0.77410372,  0.39339777, -0.14000015],\n",
              "       [ 0.22475831, -0.14000015,  0.17581425]])"
            ]
          },
          "metadata": {},
          "execution_count": 9
        }
      ]
    },
    {
      "cell_type": "code",
      "source": [],
      "metadata": {
        "id": "qIRewUgGmad2"
      },
      "execution_count": null,
      "outputs": []
    },
    {
      "cell_type": "code",
      "source": [
        "import numpy as np\n",
        "from scipy import stats\n",
        "np.random.seed(0)\n",
        "stats.binom(10, 0.5).rvs(10)   # n=10, p=0.5인 이항 분포에서 rvs 함수로 표본 10개 추출"
      ],
      "metadata": {
        "colab": {
          "base_uri": "https://localhost:8080/"
        },
        "id": "Evq-TgTrmaf1",
        "outputId": "0a4f63e2-e0f2-4c32-e0a7-0ce13238d477"
      },
      "execution_count": null,
      "outputs": [
        {
          "output_type": "execute_result",
          "data": {
            "text/plain": [
              "array([5, 6, 5, 5, 5, 6, 5, 7, 8, 5])"
            ]
          },
          "metadata": {},
          "execution_count": 16
        }
      ]
    },
    {
      "cell_type": "code",
      "source": [
        "stats.norm().rvs(10)   # 평균은 0이고, 표준편차가 1인 정규 분포에서 표본 10개 추출"
      ],
      "metadata": {
        "colab": {
          "base_uri": "https://localhost:8080/"
        },
        "id": "51z7kTz_mahn",
        "outputId": "5661bb85-dc02-4dc9-fc7c-74c9ff5cd279"
      },
      "execution_count": null,
      "outputs": [
        {
          "output_type": "execute_result",
          "data": {
            "text/plain": [
              "array([ 0.14404357,  1.45427351,  0.76103773,  0.12167502,  0.44386323,\n",
              "        0.33367433,  1.49407907, -0.20515826,  0.3130677 , -0.85409574])"
            ]
          },
          "metadata": {},
          "execution_count": 15
        }
      ]
    },
    {
      "cell_type": "code",
      "source": [
        "stats.uniform().rvs(10)    # 0~1 사이에 정의된 균일 분포에서 표본 10개 추출"
      ],
      "metadata": {
        "colab": {
          "base_uri": "https://localhost:8080/"
        },
        "id": "-tkewb9-majk",
        "outputId": "475711f5-1b0d-481a-95a4-02a1e8c104c3"
      },
      "execution_count": null,
      "outputs": [
        {
          "output_type": "execute_result",
          "data": {
            "text/plain": [
              "array([0.79172504, 0.52889492, 0.56804456, 0.92559664, 0.07103606,\n",
              "       0.0871293 , 0.0202184 , 0.83261985, 0.77815675, 0.87001215])"
            ]
          },
          "metadata": {},
          "execution_count": 17
        }
      ]
    },
    {
      "cell_type": "code",
      "source": [
        "stats.chi2(df=2).rvs(10)   # 자유도가 2인 카이제곱 분포에서 표본 10개 추출"
      ],
      "metadata": {
        "colab": {
          "base_uri": "https://localhost:8080/"
        },
        "id": "iulV7Y5Zmalg",
        "outputId": "fcf22cf9-50e3-4f13-e158-f082b75ef44f"
      },
      "execution_count": null,
      "outputs": [
        {
          "output_type": "execute_result",
          "data": {
            "text/plain": [
              "array([7.69044368, 3.21047912, 1.23785892, 3.03307195, 0.25174882,\n",
              "       2.04286377, 0.30945937, 5.7888409 , 1.47565456, 1.07113144])"
            ]
          },
          "metadata": {},
          "execution_count": 18
        }
      ]
    },
    {
      "cell_type": "code",
      "source": [],
      "metadata": {
        "id": "ISOAJuSjmanv"
      },
      "execution_count": null,
      "outputs": []
    },
    {
      "cell_type": "code",
      "source": [
        "x = stats.uniform().rvs(20)   # 균일 분포에서 표본 20개 추출\n",
        "k2, p = stats.normaltest(x)   # x에 대한 정규성 검정\n",
        "print(p)   #정규성 검정의 p값을 출력"
      ],
      "metadata": {
        "colab": {
          "base_uri": "https://localhost:8080/"
        },
        "id": "AGDcrPTSmapV",
        "outputId": "9048fbb4-eec5-4549-b6b1-cb41771f94ba"
      },
      "execution_count": null,
      "outputs": [
        {
          "output_type": "stream",
          "name": "stdout",
          "text": [
            "0.42343504283518196\n"
          ]
        }
      ]
    },
    {
      "cell_type": "code",
      "source": [
        "import scipy as sp\n",
        "n = np.array([1, 2, 4, 1, 2, 10])   # 주사위를 20번 던졌을 때 1~6 사이의 눈이 나오는 빈도\n",
        "sp.stats.chisquare(n)               # 귀무가설 : 각 눈의 빈도는 동일하게 나온다.\n",
        "# 귀무가설 기각"
      ],
      "metadata": {
        "colab": {
          "base_uri": "https://localhost:8080/"
        },
        "id": "744aDK3imarh",
        "outputId": "26e964b3-c741-48c5-bd36-a72690883125"
      },
      "execution_count": null,
      "outputs": [
        {
          "output_type": "execute_result",
          "data": {
            "text/plain": [
              "Power_divergenceResult(statistic=17.799999999999997, pvalue=0.0032077920346052823)"
            ]
          },
          "metadata": {},
          "execution_count": 20
        }
      ]
    },
    {
      "cell_type": "code",
      "source": [
        "np.random.seed(0)\n",
        "x1 = stats.norm(0, 1).rvs(10)   # 평균이 0인 정규 분포에서 표본 10개 추출\n",
        "x2 = stats.norm(1, 1).rvs(10)   # 평균이 1인 정규 분포에서 표본 10개 추출\n",
        "np.mean(x1), np.mean(x2)        # 두 랜덤 샘플의 평균 확인"
      ],
      "metadata": {
        "colab": {
          "base_uri": "https://localhost:8080/"
        },
        "id": "6HciPYuematt",
        "outputId": "a8ebc1c5-e5dd-4dee-b25c-f4861ec94a65"
      },
      "execution_count": null,
      "outputs": [
        {
          "output_type": "execute_result",
          "data": {
            "text/plain": [
              "(0.7380231707288347, 1.400646015162435)"
            ]
          },
          "metadata": {},
          "execution_count": 25
        }
      ]
    },
    {
      "cell_type": "code",
      "source": [
        "stats.ttest_ind(x1, x2)         # 두 집단의 모평균이 같다는 귀무 가설에 대해 t-검정\n",
        "# 유의 수준 5%에서 귀무가설 기각"
      ],
      "metadata": {
        "colab": {
          "base_uri": "https://localhost:8080/"
        },
        "id": "K-VQaVwemav0",
        "outputId": "25290d8b-ed37-4056-becf-19be16234a8c"
      },
      "execution_count": null,
      "outputs": [
        {
          "output_type": "execute_result",
          "data": {
            "text/plain": [
              "Ttest_indResult(statistic=-1.6868710732328158, pvalue=0.10888146383913824)"
            ]
          },
          "metadata": {},
          "execution_count": 26
        }
      ]
    },
    {
      "cell_type": "code",
      "source": [],
      "metadata": {
        "id": "sUT9ZS8qmaxv"
      },
      "execution_count": null,
      "outputs": []
    },
    {
      "cell_type": "code",
      "source": [
        "# 어떤 처치의 전후로 통증 크기를 before와 after로 기록하였다. \n",
        "# 처치 전의 평균과 처치 후의 평균이 차이가 있는지 쌍체 t 검정으로 확인하기. \n",
        "# 숫자가 클수록 통증이 심하며, 통증은 0~100 사이의 값으로 표현\n",
        "\n",
        "before = [68, 56, 57, 54, 64, 48, 68, 56, 61, 58, 67, 49, 58, 58, 65, 54, 59, 55, 60, 62]\n",
        "after=[65, 57, 57, 54, 64, 47, 67, 54, 60, 58, 65, 48, 57, 56, 64, 53, 57, 55, 61, 63]\n",
        "# 귀무 가설: 처치 전후로 통증의 차이가 없다\n",
        "# 대립 가설: 처치 전후의 통증 차이가 있다\n",
        "\n",
        "stats.ttest_rel(before, after)\n",
        "# 유의 수준이 5%라면 현재 p값이 유의 수준보다 작으므로 귀무 가설을 기각"
      ],
      "metadata": {
        "id": "W_hMA21Hmaz2"
      },
      "execution_count": null,
      "outputs": []
    },
    {
      "cell_type": "code",
      "source": [
        "# 고객 5명에게 광고 전후로 제품에 대한 선호도를 측정하였다. \n",
        "# 광고 효과가 있는지 확인하기. \n",
        "# 1~10 사이의 값으로 측정, 10: 제품을 매우 선호, 1: 제품을 선호하지 않음\n",
        "\n",
        "before = [2, 3, 2, 3, 2]\n",
        "after = [9, 8, 9, 7, 6]\n",
        "# 귀무 가설: 광고 전후로 선호도 차이가 없다\n",
        "# 대립 가설: 광고 전후의 선호도 차이가 있다\n",
        "\n",
        "stats.ttest_rel(before, after)\n",
        "# 유의 수준이 5%라면 현재 p값이 유의 수준보다 작으므로 귀무 가설을 기각"
      ],
      "metadata": {
        "id": "V3Py2R_Hma53"
      },
      "execution_count": null,
      "outputs": []
    }
  ]
}