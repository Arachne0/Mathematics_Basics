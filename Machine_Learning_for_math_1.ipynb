{
  "nbformat": 4,
  "nbformat_minor": 0,
  "metadata": {
    "colab": {
      "provenance": [],
      "authorship_tag": "ABX9TyMgeSrhXFe7re33r2elBWM/",
      "include_colab_link": true
    },
    "kernelspec": {
      "name": "python3",
      "display_name": "Python 3"
    },
    "language_info": {
      "name": "python"
    }
  },
  "cells": [
    {
      "cell_type": "markdown",
      "metadata": {
        "id": "view-in-github",
        "colab_type": "text"
      },
      "source": [
        "<a href=\"https://colab.research.google.com/github/Arachne0/Mathematics_Basics/blob/master/Machine_Learning_for_math_1.ipynb\" target=\"_parent\"><img src=\"https://colab.research.google.com/assets/colab-badge.svg\" alt=\"Open In Colab\"/></a>"
      ]
    },
    {
      "cell_type": "code",
      "source": [
        "(1,2,3) < (4,3,2)      # 두 튜플의 첫 번째 값인 1과 4을 비교"
      ],
      "metadata": {
        "colab": {
          "base_uri": "https://localhost:8080/"
        },
        "id": "fWDlINFWrRVi",
        "outputId": "242fb37b-fe85-43a7-9625-e6f7484df666"
      },
      "execution_count": null,
      "outputs": [
        {
          "output_type": "execute_result",
          "data": {
            "text/plain": [
              "True"
            ]
          },
          "metadata": {},
          "execution_count": 2
        }
      ]
    },
    {
      "cell_type": "code",
      "source": [
        "(1,2,3) < (1,3,2)  # 두 튜플의 첫 번째 값이 같으므로 두 번째 값인 2와 3을 비교"
      ],
      "metadata": {
        "colab": {
          "base_uri": "https://localhost:8080/"
        },
        "id": "qwmuk_KIrfa_",
        "outputId": "a421f2d4-5e4b-45fe-e030-46ff35ca7a07"
      },
      "execution_count": null,
      "outputs": [
        {
          "output_type": "execute_result",
          "data": {
            "text/plain": [
              "True"
            ]
          },
          "metadata": {},
          "execution_count": 3
        }
      ]
    },
    {
      "cell_type": "code",
      "source": [
        "('MIT', 'Sun') < ('CIT', 'Sat')  # 첫 번째 값인 MIT와 CIT을 비교"
      ],
      "metadata": {
        "colab": {
          "base_uri": "https://localhost:8080/"
        },
        "id": "7poMBYZrsfns",
        "outputId": "9e1830b8-f962-46f3-f9de-eb2032445d24"
      },
      "execution_count": null,
      "outputs": [
        {
          "output_type": "execute_result",
          "data": {
            "text/plain": [
              "False"
            ]
          },
          "metadata": {},
          "execution_count": 5
        }
      ]
    },
    {
      "cell_type": "code",
      "source": [
        "('ABC', 'more' ) < ('ABC', 'most')    # 두 번째 값인 more, most를 비교하는데 세 번째 글자부터 달라서 r과 s를 비교"
      ],
      "metadata": {
        "colab": {
          "base_uri": "https://localhost:8080/"
        },
        "id": "v5hBoP3Trfcy",
        "outputId": "439dacfe-7071-45ac-b436-7f862c5e7d43"
      },
      "execution_count": null,
      "outputs": [
        {
          "output_type": "execute_result",
          "data": {
            "text/plain": [
              "True"
            ]
          },
          "metadata": {},
          "execution_count": 4
        }
      ]
    },
    {
      "cell_type": "code",
      "source": [
        "a = {1, 2, 3}       # 1, 2, 3 값을 갖는 세트 a 생성\n",
        "b = {3, 4, 5}       # 3, 4, 5 값을 갖는 세트 b 생성"
      ],
      "metadata": {
        "id": "AtFkVdEcrfeo"
      },
      "execution_count": null,
      "outputs": []
    },
    {
      "cell_type": "code",
      "source": [
        "a.union(b)          # a와 b의 합집합"
      ],
      "metadata": {
        "colab": {
          "base_uri": "https://localhost:8080/"
        },
        "id": "jVaUMcnRrfgc",
        "outputId": "b238f223-5ccc-4dea-de60-02b1d81d817d"
      },
      "execution_count": null,
      "outputs": [
        {
          "output_type": "execute_result",
          "data": {
            "text/plain": [
              "{1, 2, 3, 4, 5}"
            ]
          },
          "metadata": {},
          "execution_count": 8
        }
      ]
    },
    {
      "cell_type": "code",
      "source": [
        "a.intersection(b)   # a와 b의 교집합"
      ],
      "metadata": {
        "colab": {
          "base_uri": "https://localhost:8080/"
        },
        "id": "gHBXWQ1Brfia",
        "outputId": "e7d9d6af-4f6e-4a57-e560-f95b5a0f01d6"
      },
      "execution_count": null,
      "outputs": [
        {
          "output_type": "execute_result",
          "data": {
            "text/plain": [
              "{3}"
            ]
          },
          "metadata": {},
          "execution_count": 9
        }
      ]
    },
    {
      "cell_type": "code",
      "source": [
        "a - b      # a에서 b를 뺀 차집합"
      ],
      "metadata": {
        "colab": {
          "base_uri": "https://localhost:8080/"
        },
        "id": "e3_idLTcrfkH",
        "outputId": "38239eea-9b8f-41c6-c728-5db4f293a900"
      },
      "execution_count": null,
      "outputs": [
        {
          "output_type": "execute_result",
          "data": {
            "text/plain": [
              "{1, 2}"
            ]
          },
          "metadata": {},
          "execution_count": 10
        }
      ]
    },
    {
      "cell_type": "code",
      "source": [
        "a | b      # a와 b의 합집합"
      ],
      "metadata": {
        "colab": {
          "base_uri": "https://localhost:8080/"
        },
        "id": "nZ_ICU8frfmM",
        "outputId": "26dc27b5-06d8-4a70-bb60-5e86b49b65c0"
      },
      "execution_count": null,
      "outputs": [
        {
          "output_type": "execute_result",
          "data": {
            "text/plain": [
              "{1, 2, 3, 4, 5}"
            ]
          },
          "metadata": {},
          "execution_count": 11
        }
      ]
    },
    {
      "cell_type": "code",
      "source": [
        "a & b      # a와 b의 교집합"
      ],
      "metadata": {
        "colab": {
          "base_uri": "https://localhost:8080/"
        },
        "id": "Exk_NdLrrfnp",
        "outputId": "cf067e5e-2420-4eb4-968e-1b6c6db09106"
      },
      "execution_count": null,
      "outputs": [
        {
          "output_type": "execute_result",
          "data": {
            "text/plain": [
              "{3}"
            ]
          },
          "metadata": {},
          "execution_count": 12
        }
      ]
    },
    {
      "cell_type": "code",
      "source": [
        "lst = [1, 2, 3, 4]"
      ],
      "metadata": {
        "id": "W_WrR156us3Z"
      },
      "execution_count": null,
      "outputs": []
    },
    {
      "cell_type": "code",
      "source": [
        "lst.append(5)      # 5를 추가\n",
        "lst.count(5)       # 5의 개수를 출력"
      ],
      "metadata": {
        "colab": {
          "base_uri": "https://localhost:8080/"
        },
        "id": "oJWqrjf-us5K",
        "outputId": "495cdf80-86f5-44af-c392-6e801cfeb925"
      },
      "execution_count": null,
      "outputs": [
        {
          "output_type": "execute_result",
          "data": {
            "text/plain": [
              "2"
            ]
          },
          "metadata": {},
          "execution_count": 23
        }
      ]
    },
    {
      "cell_type": "code",
      "source": [
        "lst.insert(0, 7)   # 맨 앞에 7를 추가\n",
        "lst.pop()          # 끝의 값 1개 반환하고 삭제"
      ],
      "metadata": {
        "colab": {
          "base_uri": "https://localhost:8080/"
        },
        "id": "kpwBVP0wus6v",
        "outputId": "d3065f01-2c2a-4862-bd12-a2de1b1fa02b"
      },
      "execution_count": null,
      "outputs": [
        {
          "output_type": "execute_result",
          "data": {
            "text/plain": [
              "5"
            ]
          },
          "metadata": {},
          "execution_count": 24
        }
      ]
    },
    {
      "cell_type": "code",
      "source": [
        "lst.reverse()      # 리스트 안에 있는 값을 거꾸로 변환\n",
        "print(lst)"
      ],
      "metadata": {
        "colab": {
          "base_uri": "https://localhost:8080/"
        },
        "id": "iFQyCvClus8p",
        "outputId": "809189d4-fdd6-4857-e269-cf33f24a7fb6"
      },
      "execution_count": null,
      "outputs": [
        {
          "output_type": "stream",
          "name": "stdout",
          "text": [
            "[5, 4, 3, 2, 1, 7]\n"
          ]
        }
      ]
    },
    {
      "cell_type": "code",
      "source": [
        "lst.remove(4)      # 4를 제거\n",
        "print(lst)"
      ],
      "metadata": {
        "colab": {
          "base_uri": "https://localhost:8080/"
        },
        "id": "nEysT4gqus-V",
        "outputId": "2027196f-d6b4-4ff5-9640-93b1962bb040"
      },
      "execution_count": null,
      "outputs": [
        {
          "output_type": "stream",
          "name": "stdout",
          "text": [
            "[5, 3, 2, 1, 7]\n"
          ]
        }
      ]
    },
    {
      "cell_type": "code",
      "source": [
        "lst.sort()         # 정렬\n",
        "print(lst)"
      ],
      "metadata": {
        "colab": {
          "base_uri": "https://localhost:8080/"
        },
        "id": "28oh6I3TutAD",
        "outputId": "6e8d6dc7-033b-478b-845e-962abb3ab3e0"
      },
      "execution_count": null,
      "outputs": [
        {
          "output_type": "stream",
          "name": "stdout",
          "text": [
            "[1, 2, 3, 5, 7]\n"
          ]
        }
      ]
    },
    {
      "cell_type": "code",
      "source": [
        "lst = [18, 21, 32, 48, 56, 64]\n",
        "lst[0:4]    # 첫 번째~네 번째 값만 가져오기"
      ],
      "metadata": {
        "colab": {
          "base_uri": "https://localhost:8080/"
        },
        "id": "hI7P7WSSutDL",
        "outputId": "890a4c72-397b-4a13-ffad-7e0c9275b8a9"
      },
      "execution_count": null,
      "outputs": [
        {
          "output_type": "execute_result",
          "data": {
            "text/plain": [
              "[18, 21, 32, 48]"
            ]
          },
          "metadata": {},
          "execution_count": 28
        }
      ]
    },
    {
      "cell_type": "code",
      "source": [
        "bag = dict()        # 딕셔너리 생성\n",
        "bag['money'] = 12   # money라는 키 값에 12를 할당\n",
        "bag['cake'] = 3     # cake라는 키 값에 3을 할당\n",
        "bag['paper'] = 75   # paper라는 키 값에 75를 할당"
      ],
      "metadata": {
        "id": "tiyhT9wOutE2"
      },
      "execution_count": null,
      "outputs": []
    },
    {
      "cell_type": "code",
      "source": [
        "print(bag)"
      ],
      "metadata": {
        "colab": {
          "base_uri": "https://localhost:8080/"
        },
        "id": "zNEKJZs5utGl",
        "outputId": "c14850ba-3a86-4c32-8497-ff80afa3dc98"
      },
      "execution_count": null,
      "outputs": [
        {
          "output_type": "stream",
          "name": "stdout",
          "text": [
            "{'money': 12, 'cake': 3, 'paper': 75}\n"
          ]
        }
      ]
    },
    {
      "cell_type": "code",
      "source": [
        "print(bag['cake'])"
      ],
      "metadata": {
        "colab": {
          "base_uri": "https://localhost:8080/"
        },
        "id": "ERuriVaKutIQ",
        "outputId": "1a78142f-4657-466e-a1f6-81908097460e"
      },
      "execution_count": null,
      "outputs": [
        {
          "output_type": "stream",
          "name": "stdout",
          "text": [
            "3\n"
          ]
        }
      ]
    },
    {
      "cell_type": "code",
      "source": [
        "print(bag)\n",
        "{'money': 12, 'cake': 5, 'paper': 75}"
      ],
      "metadata": {
        "colab": {
          "base_uri": "https://localhost:8080/"
        },
        "id": "7jwHLrOSutKN",
        "outputId": "9fbbfa02-1c0c-4cd0-a9fc-a04889425eaf"
      },
      "execution_count": null,
      "outputs": [
        {
          "output_type": "stream",
          "name": "stdout",
          "text": [
            "{'money': 12, 'cake': 3, 'paper': 75}\n"
          ]
        },
        {
          "output_type": "execute_result",
          "data": {
            "text/plain": [
              "{'money': 12, 'cake': 5, 'paper': 75}"
            ]
          },
          "metadata": {},
          "execution_count": 32
        }
      ]
    },
    {
      "cell_type": "code",
      "source": [
        "# 리스트\n",
        "lst = list()    # 리스트 생성\n",
        "lst.append(11)  # 11을 추가\n",
        "lst.append(133) # 133도 추가\n",
        "print(lst)"
      ],
      "metadata": {
        "colab": {
          "base_uri": "https://localhost:8080/"
        },
        "id": "cswSuvKDutL6",
        "outputId": "3ccf5e4b-00a1-4fd3-ab91-f7c2ce36959f"
      },
      "execution_count": null,
      "outputs": [
        {
          "output_type": "stream",
          "name": "stdout",
          "text": [
            "[11, 133]\n"
          ]
        }
      ]
    },
    {
      "cell_type": "code",
      "source": [
        "lst[0] = 13 # 첫 번째 값 11을 13으로 수정\n",
        "print(lst)\n"
      ],
      "metadata": {
        "colab": {
          "base_uri": "https://localhost:8080/"
        },
        "id": "6DPv8uudz1ls",
        "outputId": "5ea55a66-17a0-427e-f358-2168ed78a80d"
      },
      "execution_count": null,
      "outputs": [
        {
          "output_type": "stream",
          "name": "stdout",
          "text": [
            "[13, 133]\n"
          ]
        }
      ]
    },
    {
      "cell_type": "code",
      "source": [
        "# 딕셔너리\n",
        "dic1 = dict()       # 딕셔너리 생성\n",
        "dic1['age'] = 21    # age 키 값에 21을 할당\n",
        "dic1['class'] = 182 # class 키 값에 182를 할당\n",
        "print(dic1)"
      ],
      "metadata": {
        "colab": {
          "base_uri": "https://localhost:8080/"
        },
        "id": "UuIsPpRdz1ni",
        "outputId": "3c578580-d0ed-4532-dca7-77afe9c1ddd6"
      },
      "execution_count": null,
      "outputs": [
        {
          "output_type": "stream",
          "name": "stdout",
          "text": [
            "{'age': 21, 'class': 182}\n"
          ]
        }
      ]
    },
    {
      "cell_type": "code",
      "source": [
        "dic1['age'] = 23 # age값 21을 23으로 수정\n",
        "print(dic1)"
      ],
      "metadata": {
        "colab": {
          "base_uri": "https://localhost:8080/"
        },
        "id": "2Y_yHl3tz1pI",
        "outputId": "ebb86d1e-b584-46e1-bab6-f768c82a7b2e"
      },
      "execution_count": null,
      "outputs": [
        {
          "output_type": "stream",
          "name": "stdout",
          "text": [
            "{'age': 23, 'class': 182}\n"
          ]
        }
      ]
    },
    {
      "cell_type": "code",
      "source": [
        "'py' 'thon'"
      ],
      "metadata": {
        "id": "Sus9YQkrz1q8",
        "colab": {
          "base_uri": "https://localhost:8080/",
          "height": 36
        },
        "outputId": "7caccc42-7837-4ed9-b8a3-cb7fcbba5a2c"
      },
      "execution_count": null,
      "outputs": [
        {
          "output_type": "execute_result",
          "data": {
            "text/plain": [
              "'python'"
            ],
            "application/vnd.google.colaboratory.intrinsic+json": {
              "type": "string"
            }
          },
          "metadata": {},
          "execution_count": 3
        }
      ]
    },
    {
      "cell_type": "code",
      "source": [
        "'py' + 'thon'"
      ],
      "metadata": {
        "id": "RdtO4o-bz1sq",
        "colab": {
          "base_uri": "https://localhost:8080/",
          "height": 36
        },
        "outputId": "4a1e9416-c77b-4461-cba7-e135df472aa9"
      },
      "execution_count": null,
      "outputs": [
        {
          "output_type": "execute_result",
          "data": {
            "text/plain": [
              "'python'"
            ],
            "application/vnd.google.colaboratory.intrinsic+json": {
              "type": "string"
            }
          },
          "metadata": {},
          "execution_count": 4
        }
      ]
    },
    {
      "cell_type": "code",
      "source": [
        "'py' * 3"
      ],
      "metadata": {
        "id": "7aDkjUBAz1uk",
        "colab": {
          "base_uri": "https://localhost:8080/",
          "height": 36
        },
        "outputId": "031e1553-7bdd-40f1-d362-23c0e4cd5273"
      },
      "execution_count": null,
      "outputs": [
        {
          "output_type": "execute_result",
          "data": {
            "text/plain": [
              "'pypypy'"
            ],
            "application/vnd.google.colaboratory.intrinsic+json": {
              "type": "string"
            }
          },
          "metadata": {},
          "execution_count": 5
        }
      ]
    },
    {
      "cell_type": "code",
      "source": [
        "a = \"파이썬\"\n",
        "a[1]"
      ],
      "metadata": {
        "id": "YZ42K0wdz1wL",
        "colab": {
          "base_uri": "https://localhost:8080/",
          "height": 36
        },
        "outputId": "a20421d1-1bcb-4cb1-e59b-874404980c89"
      },
      "execution_count": null,
      "outputs": [
        {
          "output_type": "execute_result",
          "data": {
            "text/plain": [
              "'이'"
            ],
            "application/vnd.google.colaboratory.intrinsic+json": {
              "type": "string"
            }
          },
          "metadata": {},
          "execution_count": 1
        }
      ]
    },
    {
      "cell_type": "code",
      "source": [
        "a[1:4]"
      ],
      "metadata": {
        "id": "5viaUVm2z1x3",
        "colab": {
          "base_uri": "https://localhost:8080/",
          "height": 36
        },
        "outputId": "8b9af3a8-c7bf-4a00-931f-ca42b7d90023"
      },
      "execution_count": null,
      "outputs": [
        {
          "output_type": "execute_result",
          "data": {
            "text/plain": [
              "'이썬'"
            ],
            "application/vnd.google.colaboratory.intrinsic+json": {
              "type": "string"
            }
          },
          "metadata": {},
          "execution_count": 2
        }
      ]
    },
    {
      "cell_type": "code",
      "source": [
        "a[:]       # 처음부터 1칸씩 출력, 3번째 자리에 다른 표현이 없다면 Defalut는 1이다. "
      ],
      "metadata": {
        "id": "L_78wy1_z1zz",
        "colab": {
          "base_uri": "https://localhost:8080/",
          "height": 36
        },
        "outputId": "d089228a-4340-4b81-df75-8f3b2011f568"
      },
      "execution_count": null,
      "outputs": [
        {
          "output_type": "execute_result",
          "data": {
            "text/plain": [
              "'파이썬'"
            ],
            "application/vnd.google.colaboratory.intrinsic+json": {
              "type": "string"
            }
          },
          "metadata": {},
          "execution_count": 3
        }
      ]
    },
    {
      "cell_type": "code",
      "source": [
        "a[::2]     # 처음부터 2칸 간격으로 값 출력"
      ],
      "metadata": {
        "id": "LosbCw0pz11p",
        "colab": {
          "base_uri": "https://localhost:8080/",
          "height": 36
        },
        "outputId": "0170ca38-42a6-4549-95ed-6e5f5d2b1603"
      },
      "execution_count": null,
      "outputs": [
        {
          "output_type": "execute_result",
          "data": {
            "text/plain": [
              "'파썬'"
            ],
            "application/vnd.google.colaboratory.intrinsic+json": {
              "type": "string"
            }
          },
          "metadata": {},
          "execution_count": 4
        }
      ]
    },
    {
      "cell_type": "code",
      "source": [
        "# 실수형에서 문자열로 변환'\n",
        "num = 3.14\n",
        "a = str(num)\n",
        "a"
      ],
      "metadata": {
        "id": "Q8D-i632z13N",
        "colab": {
          "base_uri": "https://localhost:8080/",
          "height": 36
        },
        "outputId": "7c9aa9f8-3555-4806-a02b-d1a60021eb3a"
      },
      "execution_count": null,
      "outputs": [
        {
          "output_type": "execute_result",
          "data": {
            "text/plain": [
              "'3.14'"
            ],
            "application/vnd.google.colaboratory.intrinsic+json": {
              "type": "string"
            }
          },
          "metadata": {},
          "execution_count": 18
        }
      ]
    },
    {
      "cell_type": "code",
      "source": [
        "float(num) + 1.0 "
      ],
      "metadata": {
        "id": "8ytdqhS1z15I",
        "colab": {
          "base_uri": "https://localhost:8080/"
        },
        "outputId": "7b0b1785-a8cb-46cc-c928-162125d42c8a"
      },
      "execution_count": null,
      "outputs": [
        {
          "output_type": "execute_result",
          "data": {
            "text/plain": [
              "4.140000000000001"
            ]
          },
          "metadata": {},
          "execution_count": 19
        }
      ]
    },
    {
      "cell_type": "code",
      "source": [
        "# 문자열에서 정수로 변환\n",
        "b = int(\"49\")\n",
        "b"
      ],
      "metadata": {
        "id": "yQwRWyZ-z160",
        "colab": {
          "base_uri": "https://localhost:8080/"
        },
        "outputId": "85995642-56d3-46e4-dc3c-9cb56145ad5e"
      },
      "execution_count": null,
      "outputs": [
        {
          "output_type": "execute_result",
          "data": {
            "text/plain": [
              "49"
            ]
          },
          "metadata": {},
          "execution_count": 7
        }
      ]
    },
    {
      "cell_type": "code",
      "source": [
        "b + 11"
      ],
      "metadata": {
        "id": "LOEIP4R_z18j",
        "colab": {
          "base_uri": "https://localhost:8080/"
        },
        "outputId": "06a4e58b-80af-467b-81b4-18bbca6f7fa8"
      },
      "execution_count": null,
      "outputs": [
        {
          "output_type": "execute_result",
          "data": {
            "text/plain": [
              "60"
            ]
          },
          "metadata": {},
          "execution_count": 8
        }
      ]
    },
    {
      "cell_type": "code",
      "source": [
        "# 정수형에서 실수형으로 변환\n",
        "c = float(23)\n",
        "c"
      ],
      "metadata": {
        "id": "tjwxv367z1-G",
        "colab": {
          "base_uri": "https://localhost:8080/"
        },
        "outputId": "75f8ee45-0525-47a8-eccf-955b0444363c"
      },
      "execution_count": null,
      "outputs": [
        {
          "output_type": "execute_result",
          "data": {
            "text/plain": [
              "23.0"
            ]
          },
          "metadata": {},
          "execution_count": 9
        }
      ]
    },
    {
      "cell_type": "code",
      "source": [
        "c + 0.9"
      ],
      "metadata": {
        "id": "pTx5ZtvRz1_1",
        "colab": {
          "base_uri": "https://localhost:8080/"
        },
        "outputId": "0419b5e7-641e-4a4e-f14a-9b6a7110d128"
      },
      "execution_count": null,
      "outputs": [
        {
          "output_type": "execute_result",
          "data": {
            "text/plain": [
              "23.9"
            ]
          },
          "metadata": {},
          "execution_count": 10
        }
      ]
    },
    {
      "cell_type": "code",
      "source": [
        "def Times(a, b):\n",
        "  a = a + 1 # 같은 함수의 내용은 들여쓰기가 같다\n",
        "  b = b + 1\n",
        "  return a * b"
      ],
      "metadata": {
        "id": "kQc1BfXkz2Bo"
      },
      "execution_count": null,
      "outputs": []
    },
    {
      "cell_type": "code",
      "source": [
        "# 함수 사용하기\n",
        "Times(10, 10)"
      ],
      "metadata": {
        "id": "nP1KNxRtz2DG",
        "colab": {
          "base_uri": "https://localhost:8080/"
        },
        "outputId": "24f9d4e0-578d-4c53-8f40-5ce74ef334e7"
      },
      "execution_count": null,
      "outputs": [
        {
          "output_type": "execute_result",
          "data": {
            "text/plain": [
              "121"
            ]
          },
          "metadata": {},
          "execution_count": 22
        }
      ]
    },
    {
      "cell_type": "code",
      "source": [
        "# return이 없으면 None을 반환하는 것을 확인\n",
        "def setValue(newValue):\n",
        "  x = newValue\n",
        "  retval = setValue(10)\n",
        "  print(retval)"
      ],
      "metadata": {
        "id": "5uQUCjrGz2E_"
      },
      "execution_count": null,
      "outputs": []
    },
    {
      "cell_type": "code",
      "source": [
        "#리스트 안에 for를 포함하여 실습하기\n",
        "\n",
        "a = [1, 2, 3, 4]\n",
        "result = [ ]\n",
        "for num in a:\n",
        "  result.append(num * 3)\n",
        "print(result)  "
      ],
      "metadata": {
        "id": "VLqw8mu8z2Gd",
        "colab": {
          "base_uri": "https://localhost:8080/"
        },
        "outputId": "568ee043-d591-4f25-f96a-d2b6a05d040a"
      },
      "execution_count": null,
      "outputs": [
        {
          "output_type": "stream",
          "name": "stdout",
          "text": [
            "[3, 6, 9, 12]\n"
          ]
        }
      ]
    },
    {
      "cell_type": "code",
      "source": [
        "# 리스트 a의 값을 하나씩 num으로 받아 3을 곱해 리스트 result에 넣는다\n",
        "result = [num * 3 for num in a]\n",
        "\n",
        "print(result)"
      ],
      "metadata": {
        "colab": {
          "base_uri": "https://localhost:8080/"
        },
        "id": "e1_6zdfDM8Jj",
        "outputId": "275fa583-0671-4ffd-9fb0-d32351b7333e"
      },
      "execution_count": null,
      "outputs": [
        {
          "output_type": "stream",
          "name": "stdout",
          "text": [
            "[3, 6, 9, 12]\n"
          ]
        }
      ]
    },
    {
      "cell_type": "code",
      "source": [
        "# 리스트 a의 값 중에서 2로 나눈 나머지가 0인 수만 3을 곱해 리스트 result에 넣는다\n",
        "result = [num * 3 for num in a if num % 2 == 0]\n",
        "\n",
        "print(result)"
      ],
      "metadata": {
        "colab": {
          "base_uri": "https://localhost:8080/"
        },
        "id": "Fc5I-UQwM8K0",
        "outputId": "865146b7-fa72-4526-8d6a-4576c2da25bb"
      },
      "execution_count": null,
      "outputs": [
        {
          "output_type": "stream",
          "name": "stdout",
          "text": [
            "[6, 12]\n"
          ]
        }
      ]
    },
    {
      "cell_type": "code",
      "source": [
        "#리스트 만들기\n",
        "clr_names = ['red', 'green', 'gold']\n",
        "type(clr_names) # 자료 구조의 종류를 알려줌"
      ],
      "metadata": {
        "colab": {
          "base_uri": "https://localhost:8080/"
        },
        "id": "0VBqtXckM8Ma",
        "outputId": "daf40011-55d3-48b8-fa5f-830b0578a382"
      },
      "execution_count": null,
      "outputs": [
        {
          "output_type": "execute_result",
          "data": {
            "text/plain": [
              "list"
            ]
          },
          "metadata": {},
          "execution_count": 29
        }
      ]
    },
    {
      "cell_type": "code",
      "source": [
        "# 리스트에 값 추가하기\n",
        "clr_names.append('blue')\n",
        "clr_names"
      ],
      "metadata": {
        "colab": {
          "base_uri": "https://localhost:8080/"
        },
        "id": "SW3-Ppm9M8OP",
        "outputId": "20a837c5-cf5c-4119-8e34-3b73ebfaf852"
      },
      "execution_count": null,
      "outputs": [
        {
          "output_type": "execute_result",
          "data": {
            "text/plain": [
              "['red', 'green', 'gold', 'blue']"
            ]
          },
          "metadata": {},
          "execution_count": 30
        }
      ]
    },
    {
      "cell_type": "code",
      "source": [
        "# 0부터 시작할 위치를 지정하여 값 추가하기\n",
        "clr_names.insert(1, 'black')\n",
        "clr_names"
      ],
      "metadata": {
        "colab": {
          "base_uri": "https://localhost:8080/"
        },
        "id": "kmA3kjcVM8Pi",
        "outputId": "a9f8b2f0-8f11-45df-9dda-88c58b7458e4"
      },
      "execution_count": null,
      "outputs": [
        {
          "output_type": "execute_result",
          "data": {
            "text/plain": [
              "['red', 'black', 'green', 'gold', 'blue']"
            ]
          },
          "metadata": {},
          "execution_count": 31
        }
      ]
    },
    {
      "cell_type": "code",
      "source": [
        "t = (1, 2, 3)\n",
        "\n",
        "a, b = 1, 2\n",
        "(a, b) = (1, 2)\n",
        "print(a, b)"
      ],
      "metadata": {
        "colab": {
          "base_uri": "https://localhost:8080/"
        },
        "id": "oDciWVM6M8Ro",
        "outputId": "ec2bb665-3c75-4945-9fe1-c8752ab343fc"
      },
      "execution_count": null,
      "outputs": [
        {
          "output_type": "stream",
          "name": "stdout",
          "text": [
            "1 2\n"
          ]
        }
      ]
    },
    {
      "cell_type": "code",
      "source": [
        "a, b = b, a\n",
        "print(a, b)"
      ],
      "metadata": {
        "colab": {
          "base_uri": "https://localhost:8080/"
        },
        "id": "Yvg22Q6tM8S0",
        "outputId": "c777d6dc-0793-4995-b929-c4a4bd788dd6"
      },
      "execution_count": null,
      "outputs": [
        {
          "output_type": "stream",
          "name": "stdout",
          "text": [
            "2 1\n"
          ]
        }
      ]
    },
    {
      "cell_type": "code",
      "source": [
        "a = set((1, 2, 3))\n",
        "1 in a"
      ],
      "metadata": {
        "colab": {
          "base_uri": "https://localhost:8080/"
        },
        "id": "rgXHIGO_M8Us",
        "outputId": "a61fcac8-17b1-4dfc-e3d7-56a756b871ba"
      },
      "execution_count": null,
      "outputs": [
        {
          "output_type": "execute_result",
          "data": {
            "text/plain": [
              "True"
            ]
          },
          "metadata": {},
          "execution_count": 34
        }
      ]
    },
    {
      "cell_type": "code",
      "source": [
        "c = tuple(a)\n",
        "3 in c"
      ],
      "metadata": {
        "colab": {
          "base_uri": "https://localhost:8080/"
        },
        "id": "5oqB3A5EM8WS",
        "outputId": "0d60c632-5801-41f2-cb74-f2e9f0abbc25"
      },
      "execution_count": null,
      "outputs": [
        {
          "output_type": "execute_result",
          "data": {
            "text/plain": [
              "True"
            ]
          },
          "metadata": {},
          "execution_count": 36
        }
      ]
    },
    {
      "cell_type": "code",
      "source": [
        "d = dict(a = 1, b = 3, c = 5)   # dict로 딕셔너리 생성"
      ],
      "metadata": {
        "id": "1J0uJQCaM8YB"
      },
      "execution_count": null,
      "outputs": []
    },
    {
      "cell_type": "code",
      "source": [
        "# 세트 안에서 키-값 구조를 이용해 딕셔너리 생성\n",
        "clr_names = {\"apple\":\"red\", \"banana\":\"yellow\"}\n",
        "clr_names"
      ],
      "metadata": {
        "colab": {
          "base_uri": "https://localhost:8080/"
        },
        "id": "Ec_8E2BFM8Zy",
        "outputId": "335efe50-3160-4d3a-b8d3-526d7e12cf6e"
      },
      "execution_count": null,
      "outputs": [
        {
          "output_type": "execute_result",
          "data": {
            "text/plain": [
              "{'apple': 'red', 'banana': 'yellow'}"
            ]
          },
          "metadata": {},
          "execution_count": 37
        }
      ]
    },
    {
      "cell_type": "code",
      "source": [
        "clr_names[\"apple\"]"
      ],
      "metadata": {
        "colab": {
          "base_uri": "https://localhost:8080/",
          "height": 36
        },
        "id": "LcAcIK8jM8bn",
        "outputId": "3f47c0f6-da27-41ec-b195-0588edf2c50f"
      },
      "execution_count": null,
      "outputs": [
        {
          "output_type": "execute_result",
          "data": {
            "text/plain": [
              "'red'"
            ],
            "application/vnd.google.colaboratory.intrinsic+json": {
              "type": "string"
            }
          },
          "metadata": {},
          "execution_count": 39
        }
      ]
    },
    {
      "cell_type": "code",
      "source": [
        "clr_names[0]   # 인덱싱을 지원하지 않는다"
      ],
      "metadata": {
        "colab": {
          "base_uri": "https://localhost:8080/",
          "height": 170
        },
        "id": "ghhWZbYlM8dM",
        "outputId": "4d388a61-83c7-4773-d266-4c13c7aeff03"
      },
      "execution_count": null,
      "outputs": [
        {
          "output_type": "error",
          "ename": "KeyError",
          "evalue": "ignored",
          "traceback": [
            "\u001b[0;31m---------------------------------------------------------------------------\u001b[0m",
            "\u001b[0;31mKeyError\u001b[0m                                  Traceback (most recent call last)",
            "\u001b[0;32m<ipython-input-40-38decc4e1f78>\u001b[0m in \u001b[0;36m<module>\u001b[0;34m\u001b[0m\n\u001b[0;32m----> 1\u001b[0;31m \u001b[0mclr_names\u001b[0m\u001b[0;34m[\u001b[0m\u001b[0;36m0\u001b[0m\u001b[0;34m]\u001b[0m   \u001b[0;31m# 인덱싱을 지원하지 않는다\u001b[0m\u001b[0;34m\u001b[0m\u001b[0;34m\u001b[0m\u001b[0m\n\u001b[0m",
            "\u001b[0;31mKeyError\u001b[0m: 0"
          ]
        }
      ]
    },
    {
      "cell_type": "code",
      "source": [
        "# numpy의 array 함수를 쓰기 위해 numpy 패키지를 np라는 이름으로 불러온다\n",
        "import numpy as np\n",
        "a = np.array([0, 1, 2, 3, 4, 5])\n",
        "a.ndim # ndim은 a의 차원 수를 알려준다"
      ],
      "metadata": {
        "colab": {
          "base_uri": "https://localhost:8080/"
        },
        "id": "YL6ODB0SM8fJ",
        "outputId": "6111f33b-3900-4b23-afdd-101d03ac0b30"
      },
      "execution_count": null,
      "outputs": [
        {
          "output_type": "execute_result",
          "data": {
            "text/plain": [
              "(6,)"
            ]
          },
          "metadata": {},
          "execution_count": 57
        }
      ]
    },
    {
      "cell_type": "code",
      "source": [
        "# 배열 a의 각 차원에 몇 개의 값이 있는지를 튜플로 반환한다. 값 6개를 갖는 1차원 배열은 다음처럼 표현된다\n",
        "a.shape"
      ],
      "metadata": {
        "colab": {
          "base_uri": "https://localhost:8080/"
        },
        "id": "e6t9Ior9M8gd",
        "outputId": "35721164-2e88-4da8-92e8-08bcc5879ce3"
      },
      "execution_count": null,
      "outputs": [
        {
          "output_type": "execute_result",
          "data": {
            "text/plain": [
              "(6,)"
            ]
          },
          "metadata": {},
          "execution_count": 42
        }
      ]
    },
    {
      "cell_type": "code",
      "source": [
        "# 배열 a의 값들의 타입을 알려주며, 아래 결과는 정수(integer)임을 의미한다\n",
        "a.dtype"
      ],
      "metadata": {
        "colab": {
          "base_uri": "https://localhost:8080/"
        },
        "id": "_8Cn4MDfM8iZ",
        "outputId": "cf82a22e-5784-4ce9-ee05-58f349e20ee7"
      },
      "execution_count": null,
      "outputs": [
        {
          "output_type": "execute_result",
          "data": {
            "text/plain": [
              "dtype('int64')"
            ]
          },
          "metadata": {},
          "execution_count": 43
        }
      ]
    },
    {
      "cell_type": "code",
      "source": [
        "# 기본 인덱싱\n",
        "a[[2, 3, 4]]"
      ],
      "metadata": {
        "colab": {
          "base_uri": "https://localhost:8080/"
        },
        "id": "UYSERkXdM8kK",
        "outputId": "b77d7384-d395-4fba-f5ce-87aafc129dcb"
      },
      "execution_count": null,
      "outputs": [
        {
          "output_type": "execute_result",
          "data": {
            "text/plain": [
              "array([2, 3, 4])"
            ]
          },
          "metadata": {},
          "execution_count": 44
        }
      ]
    },
    {
      "cell_type": "code",
      "source": [
        "# 배열을 인덱싱으로 사용할 수 있다\n",
        "a[np.array([2, 3, 4])]"
      ],
      "metadata": {
        "colab": {
          "base_uri": "https://localhost:8080/"
        },
        "id": "mWVZNCr3M8lf",
        "outputId": "5dfdf17d-862e-4090-d80f-28c02ff13d36"
      },
      "execution_count": null,
      "outputs": [
        {
          "output_type": "execute_result",
          "data": {
            "text/plain": [
              "array([2, 3, 4])"
            ]
          },
          "metadata": {},
          "execution_count": 45
        }
      ]
    },
    {
      "cell_type": "code",
      "source": [
        "# 배열 중 원하는 값 출력을 위해 논리 연산하기\n",
        "a > 4"
      ],
      "metadata": {
        "colab": {
          "base_uri": "https://localhost:8080/"
        },
        "id": "yeztBovGM8nV",
        "outputId": "f9bb7018-2c47-4b5e-994a-b042778db982"
      },
      "execution_count": null,
      "outputs": [
        {
          "output_type": "execute_result",
          "data": {
            "text/plain": [
              "array([False, False, False, False, False,  True])"
            ]
          },
          "metadata": {},
          "execution_count": 46
        }
      ]
    },
    {
      "cell_type": "code",
      "source": [
        "a[a > 4]"
      ],
      "metadata": {
        "colab": {
          "base_uri": "https://localhost:8080/"
        },
        "id": "n5Lt1_TwM8pT",
        "outputId": "f7c854a1-adbf-43c6-d722-8fb0816ee097"
      },
      "execution_count": null,
      "outputs": [
        {
          "output_type": "execute_result",
          "data": {
            "text/plain": [
              "array([5])"
            ]
          },
          "metadata": {},
          "execution_count": 47
        }
      ]
    },
    {
      "cell_type": "code",
      "source": [
        "x = [0.0, 1, 2, 3, 4]\n",
        "y = np.array(x)     # 0.0으로 인해 다른 1, 2, 3, 4도 모두 실수형으로 변경되어 배열을 생성\n",
        "y = np.array([[0.0, 1, 2, 3, 4], [5, 6, 7, 8, 9]])     # 2차원 배열 생성\n",
        "np.shape(y)   # 행과 열을 확인 "
      ],
      "metadata": {
        "colab": {
          "base_uri": "https://localhost:8080/"
        },
        "id": "dUkkOKciM8q5",
        "outputId": "d6f6d43c-4940-4fa2-ea4b-b168f48ff308"
      },
      "execution_count": null,
      "outputs": [
        {
          "output_type": "execute_result",
          "data": {
            "text/plain": [
              "(2, 5)"
            ]
          },
          "metadata": {},
          "execution_count": 56
        }
      ]
    },
    {
      "cell_type": "code",
      "source": [
        "y = np.array([[[0, 1], [2, 3]], [[4, 5], [6, 7]], [[8, 9], [10,11]]])     # 3차원 배열 생성\n",
        "np.shape(y)   # 3개의 2차원 배열, 각 2차원 배열은 2행 2열임을 순서대로 의미한다"
      ],
      "metadata": {
        "colab": {
          "base_uri": "https://localhost:8080/"
        },
        "id": "eFkXJM9LM8sz",
        "outputId": "437ca8d4-b067-4a7e-ce40-fd914c7259c1"
      },
      "execution_count": null,
      "outputs": [
        {
          "output_type": "execute_result",
          "data": {
            "text/plain": [
              "(3, 2, 2)"
            ]
          },
          "metadata": {},
          "execution_count": 63
        }
      ]
    },
    {
      "cell_type": "code",
      "source": [
        "# array + for 같이 사용\n",
        "a = np.array([[1, 2], [3, 4], [5, 6]], float)          # 실수형으로 지정\n",
        "\n",
        "for x in a:\n",
        "  print(x)"
      ],
      "metadata": {
        "colab": {
          "base_uri": "https://localhost:8080/"
        },
        "id": "Y9Y6bRnGM8uX",
        "outputId": "5dbfab58-6942-4cba-a28a-91991fba0942"
      },
      "execution_count": null,
      "outputs": [
        {
          "output_type": "stream",
          "name": "stdout",
          "text": [
            "[1. 2.]\n",
            "[3. 4.]\n",
            "[5. 6.]\n"
          ]
        }
      ]
    },
    {
      "cell_type": "code",
      "source": [
        "# 1차원에서 0~9까지의 정수가 실수형으로 변환한 후 2행 5열 형태로 표현\n",
        "arr = np.arange(10, dtype = float).reshape((2, 5))\n",
        "arr[0]       # 1행"
      ],
      "metadata": {
        "colab": {
          "base_uri": "https://localhost:8080/"
        },
        "id": "E-nmVXq8M8wc",
        "outputId": "f9d01ad8-cc8e-4259-f7c3-54b901dc3b27"
      },
      "execution_count": null,
      "outputs": [
        {
          "output_type": "execute_result",
          "data": {
            "text/plain": [
              "array([0., 1., 2., 3., 4.])"
            ]
          },
          "metadata": {},
          "execution_count": 64
        }
      ]
    },
    {
      "cell_type": "code",
      "source": [
        "arr[0, 3]    # 1행 3열"
      ],
      "metadata": {
        "colab": {
          "base_uri": "https://localhost:8080/"
        },
        "id": "2UVxKKM1M8x4",
        "outputId": "a63f566d-21ad-4dc7-cc5d-8c2d9187884f"
      },
      "execution_count": null,
      "outputs": [
        {
          "output_type": "execute_result",
          "data": {
            "text/plain": [
              "3.0"
            ]
          },
          "metadata": {},
          "execution_count": 65
        }
      ]
    },
    {
      "cell_type": "code",
      "source": [
        "arr[0][3]    # 1행 3열"
      ],
      "metadata": {
        "colab": {
          "base_uri": "https://localhost:8080/"
        },
        "id": "cvDYIQNZW2fw",
        "outputId": "512d4318-687c-44a9-806d-f6a5bd9400cf"
      },
      "execution_count": null,
      "outputs": [
        {
          "output_type": "execute_result",
          "data": {
            "text/plain": [
              "3.0"
            ]
          },
          "metadata": {},
          "execution_count": 66
        }
      ]
    },
    {
      "cell_type": "code",
      "source": [
        "arr[0, :]    # 1행, 1차원 배열"
      ],
      "metadata": {
        "colab": {
          "base_uri": "https://localhost:8080/"
        },
        "id": "okSvffxzW2hf",
        "outputId": "621b0096-d171-4ff3-9573-a1a2c17b53d0"
      },
      "execution_count": null,
      "outputs": [
        {
          "output_type": "execute_result",
          "data": {
            "text/plain": [
              "array([0., 1., 2., 3., 4.])"
            ]
          },
          "metadata": {},
          "execution_count": 67
        }
      ]
    },
    {
      "cell_type": "code",
      "source": [
        "arr[:, 0]    # 1열, 1차원 배열"
      ],
      "metadata": {
        "colab": {
          "base_uri": "https://localhost:8080/"
        },
        "id": "xWBldYjcW2i5",
        "outputId": "a861e2a7-f75c-4b2b-c7ff-3161d3d90829"
      },
      "execution_count": null,
      "outputs": [
        {
          "output_type": "execute_result",
          "data": {
            "text/plain": [
              "array([0., 5.])"
            ]
          },
          "metadata": {},
          "execution_count": 68
        }
      ]
    },
    {
      "cell_type": "code",
      "source": [
        "from pandas import Series, DataFrame\n",
        "s = Series([0.1, 1.2, 2.3, 3.4, 4.5], index = ['a', 'b', 'c', 'd', 'e'])\n",
        "s['a']"
      ],
      "metadata": {
        "colab": {
          "base_uri": "https://localhost:8080/"
        },
        "id": "s_sFjtMgW2k-",
        "outputId": "d136a1bb-0de5-42b3-bbea-b202398d5e84"
      },
      "execution_count": null,
      "outputs": [
        {
          "output_type": "execute_result",
          "data": {
            "text/plain": [
              "0.1"
            ]
          },
          "metadata": {},
          "execution_count": 69
        }
      ]
    },
    {
      "cell_type": "code",
      "source": [
        "s[0]"
      ],
      "metadata": {
        "colab": {
          "base_uri": "https://localhost:8080/"
        },
        "id": "8a5ydVlRW2mn",
        "outputId": "fcdb82c0-5f10-4d36-8432-58d5c3954195"
      },
      "execution_count": null,
      "outputs": [
        {
          "output_type": "execute_result",
          "data": {
            "text/plain": [
              "0.1"
            ]
          },
          "metadata": {},
          "execution_count": 70
        }
      ]
    },
    {
      "cell_type": "code",
      "source": [
        "s[['a', 'c']]"
      ],
      "metadata": {
        "colab": {
          "base_uri": "https://localhost:8080/"
        },
        "id": "hRywc3S1W2oh",
        "outputId": "933bd4c4-c971-4ff5-c7a9-e78ffe9bc4fd"
      },
      "execution_count": null,
      "outputs": [
        {
          "output_type": "execute_result",
          "data": {
            "text/plain": [
              "a    0.1\n",
              "c    2.3\n",
              "dtype: float64"
            ]
          },
          "metadata": {},
          "execution_count": 71
        }
      ]
    },
    {
      "cell_type": "code",
      "source": [
        "s[s > 2]"
      ],
      "metadata": {
        "colab": {
          "base_uri": "https://localhost:8080/"
        },
        "id": "BQunrC7eW2qf",
        "outputId": "d778208b-c159-4ee4-9250-2218494e0cbe"
      },
      "execution_count": null,
      "outputs": [
        {
          "output_type": "execute_result",
          "data": {
            "text/plain": [
              "c    2.3\n",
              "d    3.4\n",
              "e    4.5\n",
              "dtype: float64"
            ]
          },
          "metadata": {},
          "execution_count": 72
        }
      ]
    },
    {
      "cell_type": "code",
      "source": [
        "s1 = Series({'a': 0.1, 'b': 1.2, 'c': 2.3})\n",
        "s2 = Series({'a': 1.0, 'b': 2.0, 'c': 3.0})\n",
        "s1 + s2"
      ],
      "metadata": {
        "colab": {
          "base_uri": "https://localhost:8080/"
        },
        "id": "aPpAgrdjW2sK",
        "outputId": "2da28dcf-0b68-4344-d2fc-ba526c67b445"
      },
      "execution_count": null,
      "outputs": [
        {
          "output_type": "execute_result",
          "data": {
            "text/plain": [
              "a    1.1\n",
              "b    3.2\n",
              "c    5.3\n",
              "dtype: float64"
            ]
          },
          "metadata": {},
          "execution_count": 73
        }
      ]
    },
    {
      "cell_type": "code",
      "source": [
        "s1 = Series(np.arange(10.0, 20.0))\n",
        "s1.describe()    # 시리즈 s1의 요약 정보 출력"
      ],
      "metadata": {
        "colab": {
          "base_uri": "https://localhost:8080/"
        },
        "id": "VDnZS5D5W2v5",
        "outputId": "83304195-2522-4bb6-90ef-8dde1b258f42"
      },
      "execution_count": null,
      "outputs": [
        {
          "output_type": "execute_result",
          "data": {
            "text/plain": [
              "count    10.00000\n",
              "mean     14.50000\n",
              "std       3.02765\n",
              "min      10.00000\n",
              "25%      12.25000\n",
              "50%      14.50000\n",
              "75%      16.75000\n",
              "max      19.00000\n",
              "dtype: float64"
            ]
          },
          "metadata": {},
          "execution_count": 74
        }
      ]
    },
    {
      "cell_type": "code",
      "source": [
        "summ = s1.describe()\n",
        "summ['mean']    # 요약 값 중에서 mean 항목 값을 출력\n"
      ],
      "metadata": {
        "colab": {
          "base_uri": "https://localhost:8080/"
        },
        "id": "kguOI-qxW2xf",
        "outputId": "153ed9dc-f450-4eaa-b463-ee16b88878fe"
      },
      "execution_count": null,
      "outputs": [
        {
          "output_type": "execute_result",
          "data": {
            "text/plain": [
              "14.5"
            ]
          },
          "metadata": {},
          "execution_count": 75
        }
      ]
    },
    {
      "cell_type": "code",
      "source": [
        "s1 = Series(np.arange(1.0, 6), index = ['a', 'a', 'b', 'c', 'd'])\n",
        "s1.drop('a')    # 시리즈에서 index가 a인 값을 제외"
      ],
      "metadata": {
        "colab": {
          "base_uri": "https://localhost:8080/"
        },
        "id": "4r-H7f34W2zj",
        "outputId": "1fbed7c5-f481-44c7-8ad8-6549715f7eea"
      },
      "execution_count": null,
      "outputs": [
        {
          "output_type": "execute_result",
          "data": {
            "text/plain": [
              "b    3.0\n",
              "c    4.0\n",
              "d    5.0\n",
              "dtype: float64"
            ]
          },
          "metadata": {},
          "execution_count": 76
        }
      ]
    },
    {
      "cell_type": "code",
      "source": [
        "# 판다스에서 시리즈와 데이터프레임 함수 불러오기\n",
        "from pandas import Series, DataFrame\n",
        "\n",
        "# 딕셔너리로부터 데이터프레임을 생성\n",
        "raw_data = {'col0': [1, 2, 3, 4],\n",
        "     'col1': [10, 20, 30, 40],\n",
        "     'col2': [100, 200, 300, 400]}\n",
        "\n",
        "data = DataFrame(raw_data)\n",
        "print(data)"
      ],
      "metadata": {
        "colab": {
          "base_uri": "https://localhost:8080/"
        },
        "id": "YC4xoLQMW21S",
        "outputId": "811f97df-dbc3-45e6-fd97-55f2877e9f09"
      },
      "execution_count": null,
      "outputs": [
        {
          "output_type": "stream",
          "name": "stdout",
          "text": [
            "   col0  col1  col2\n",
            "0     1    10   100\n",
            "1     2    20   200\n",
            "2     3    30   300\n",
            "3     4    40   400\n"
          ]
        }
      ]
    },
    {
      "cell_type": "code",
      "source": [
        "a = np.array([[1.0, 2], [3, 4]])    # 배열로부터 데이터프레임을 생성\n",
        "df = DataFrame(a, columns=['dogs', 'cats'], index=['Alice', 'Bob'])\n",
        "print(df)"
      ],
      "metadata": {
        "colab": {
          "base_uri": "https://localhost:8080/"
        },
        "id": "slLLTzAuW23F",
        "outputId": "8a4b725f-7ac3-4a1e-eb0f-8edb791b7972"
      },
      "execution_count": null,
      "outputs": [
        {
          "output_type": "stream",
          "name": "stdout",
          "text": [
            "       dogs  cats\n",
            "Alice   1.0   2.0\n",
            "Bob     3.0   4.0\n"
          ]
        }
      ]
    },
    {
      "cell_type": "code",
      "source": [
        "import pandas as pd\n",
        "# 값의 구분자를 \\t라는 탭 문자로, 생성할 파일의 인코딩을 utf-8로 지정\n",
        "df.to_csv('c:/test.csv', sep = '\\t', encoding = 'utf-8')\n",
        "writer = pd.ExcelWriter('c:/test.xlsx')\n",
        "df.to_excel(writer, 'DataFrame')\n",
        "writer.save()"
      ],
      "metadata": {
        "id": "RDCU99FTW262"
      },
      "execution_count": null,
      "outputs": []
    }
  ]
}